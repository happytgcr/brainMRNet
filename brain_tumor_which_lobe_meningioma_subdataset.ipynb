{
 "cells": [
  {
   "cell_type": "code",
   "execution_count": 9,
   "metadata": {},
   "outputs": [
    {
     "name": "stdout",
     "output_type": "stream",
     "text": [
      "Estimated number of left lobe tumors:119, True count:119\n",
      "Estimated number of right lobe tumors:100, True count:100\n"
     ]
    }
   ],
   "source": [
    "from skimage.color import gray2rgb\n",
    "import cv2\n",
    "import numpy as np\n",
    "import math\n",
    "import time\n",
    "import os\n",
    "from matplotlib.pyplot import savefig\n",
    "import matplotlib.pyplot as mst\n",
    "from PIL import Image\n",
    "import glob\n",
    "true_left=0\n",
    "true_right=0\n",
    "\n",
    "for filename in glob.glob('C:/Users/IYI/Desktop/yeni/meningioma/left/*.png'): #sol lop kitle gerçek görüntü sayısı\n",
    "    true_left=true_left+1\n",
    "for filename in glob.glob('C:/Users/IYI/Desktop/yeni/meningioma/right/*.png'): #sağ lop kitle gerçek görüntü sayısı\n",
    "    true_right=true_right+1\n",
    "\n",
    "left_count=0\n",
    "right_count=0\n",
    "\n",
    "for i in range(1,220): \n",
    "    IMAGE_PATH = 'C:/Users/IYI/Desktop/yeni/meningioma/m ('+str(i)+').png'\n",
    "    img = cv2.imread(IMAGE_PATH)\n",
    "    edged = cv2.Canny(img,50,928) \n",
    "    cv2.waitKey(0) \n",
    "    contours, hierarchy = cv2.findContours(edged,  \n",
    "        cv2.RETR_EXTERNAL, cv2.CHAIN_APPROX_NONE) \n",
    "\n",
    "    #cv2.imshow('Canny Edges After Contouring', edged) \n",
    "    cv2.waitKey(0) \n",
    "\n",
    "    #print(\"Number of Contours found = \" + str(len(contours))) \n",
    "\n",
    "    cv2.drawContours(img, contours, -1, (0, 255, 0), 3) \n",
    "    gray = cv2.cvtColor(img, cv2.COLOR_BGR2GRAY)\n",
    "    thresh = cv2.threshold(gray, 0, 255, cv2.THRESH_BINARY + cv2.THRESH_OTSU)[1]\n",
    "    x,y,w,h = cv2.boundingRect(thresh)\n",
    "    ROI = img[y:y+h, x:x+w]\n",
    "    hsv = cv2.cvtColor(ROI, cv2.COLOR_BGR2HSV)\n",
    "    lower = np.array([0, 0, 161])\n",
    "    upper = np.array([171, 255, 255])\n",
    "    mask = cv2.inRange(hsv, lower, upper)\n",
    "    x, y, w, h = 0, 0, img.shape[1]//3, img.shape[0]\n",
    "    left = mask[y:y+h, x:x+w]\n",
    "    right = mask[y:y+h, x+w:x+w+w]\n",
    "    left_pixels = cv2.countNonZero(left)\n",
    "    right_pixels = cv2.countNonZero(right)\n",
    "    #print('Left pixels:', left_pixels)\n",
    "    #print('Right pixels:', right_pixels)\n",
    "   \n",
    "    if left_pixels>right_pixels:\n",
    "        left_count=left_count+1\n",
    "    else:\n",
    "        right_count=right_count+1\n",
    "    #cv2.imshow('mask', mask)\n",
    "    #cv2.imshow('thresh', thresh)\n",
    "    #cv2.imshow('ROI', ROI)\n",
    "    #cv2.imshow('Sol lop', left)\n",
    "    #cv2.imshow('Sag lop', right)\n",
    "    cv2.waitKey()\n",
    "\n",
    "    \n",
    "print('Estimated number of left lobe tumors:{}, True count:{}'.format(left_count,true_left))\n",
    "print('Estimated number of right lobe tumors:{}, True count:{}'.format(right_count,true_right))\n",
    "\n"
   ]
  },
  {
   "cell_type": "code",
   "execution_count": null,
   "metadata": {
    "collapsed": true
   },
   "outputs": [],
   "source": []
  }
 ],
 "metadata": {
  "kernelspec": {
   "display_name": "Python 3",
   "language": "python",
   "name": "python3"
  },
  "language_info": {
   "codemirror_mode": {
    "name": "ipython",
    "version": 3
   },
   "file_extension": ".py",
   "mimetype": "text/x-python",
   "name": "python",
   "nbconvert_exporter": "python",
   "pygments_lexer": "ipython3",
   "version": "3.6.2"
  }
 },
 "nbformat": 4,
 "nbformat_minor": 2
}
